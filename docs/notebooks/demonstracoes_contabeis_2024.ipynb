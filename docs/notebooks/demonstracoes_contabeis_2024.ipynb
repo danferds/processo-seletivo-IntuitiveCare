{
 "cells": [
  {
   "cell_type": "markdown",
   "metadata": {},
   "source": [
    "# Preparação do ambiente"
   ]
  },
  {
   "cell_type": "code",
   "execution_count": 27,
   "metadata": {},
   "outputs": [],
   "source": [
    "import pandas as pd\n",
    "\n",
    "caminho_1T2024 =  r\"C:\\dev\\processo_seletivo_intuitivecare\\datasets\\demonstracoes_contabeis_2024\\1T2024.zip\"\n",
    "caminho_2T2024 = r\"C:\\dev\\processo_seletivo_intuitivecare\\datasets\\demonstracoes_contabeis_2024\\2T2024.zip\"\n",
    "caminho_3T2024 = r\"C:\\dev\\processo_seletivo_intuitivecare\\datasets\\demonstracoes_contabeis_2024\\3T2024.zip\""
   ]
  },
  {
   "cell_type": "markdown",
   "metadata": {},
   "source": [
    "# Exploração dos datasets"
   ]
  },
  {
   "cell_type": "code",
   "execution_count": 28,
   "metadata": {},
   "outputs": [],
   "source": [
    "df_1T2024 = pd.read_csv(caminho_1T2024, sep=';')\n",
    "df_2T2024 = pd.read_csv(caminho_2T2024, sep=';')\n",
    "df_3T2024 = pd.read_csv(caminho_3T2024, sep=';')"
   ]
  },
  {
   "cell_type": "markdown",
   "metadata": {},
   "source": [
    "### df_1T2024"
   ]
  },
  {
   "cell_type": "code",
   "execution_count": 29,
   "metadata": {},
   "outputs": [
    {
     "data": {
      "text/html": [
       "<div>\n",
       "<style scoped>\n",
       "    .dataframe tbody tr th:only-of-type {\n",
       "        vertical-align: middle;\n",
       "    }\n",
       "\n",
       "    .dataframe tbody tr th {\n",
       "        vertical-align: top;\n",
       "    }\n",
       "\n",
       "    .dataframe thead th {\n",
       "        text-align: right;\n",
       "    }\n",
       "</style>\n",
       "<table border=\"1\" class=\"dataframe\">\n",
       "  <thead>\n",
       "    <tr style=\"text-align: right;\">\n",
       "      <th></th>\n",
       "      <th>DATA</th>\n",
       "      <th>REG_ANS</th>\n",
       "      <th>CD_CONTA_CONTABIL</th>\n",
       "      <th>DESCRICAO</th>\n",
       "      <th>VL_SALDO_INICIAL</th>\n",
       "      <th>VL_SALDO_FINAL</th>\n",
       "    </tr>\n",
       "  </thead>\n",
       "  <tbody>\n",
       "    <tr>\n",
       "      <th>0</th>\n",
       "      <td>2024-01-01</td>\n",
       "      <td>356476</td>\n",
       "      <td>463919</td>\n",
       "      <td>Outras Despesas com Localização e Funcionamento</td>\n",
       "      <td>0</td>\n",
       "      <td>91066,19</td>\n",
       "    </tr>\n",
       "    <tr>\n",
       "      <th>1</th>\n",
       "      <td>2024-01-01</td>\n",
       "      <td>356476</td>\n",
       "      <td>46391901</td>\n",
       "      <td>Outras Despesas com Localização e Funcionamento</td>\n",
       "      <td>0</td>\n",
       "      <td>91066,19</td>\n",
       "    </tr>\n",
       "  </tbody>\n",
       "</table>\n",
       "</div>"
      ],
      "text/plain": [
       "         DATA  REG_ANS  CD_CONTA_CONTABIL  \\\n",
       "0  2024-01-01   356476             463919   \n",
       "1  2024-01-01   356476           46391901   \n",
       "\n",
       "                                         DESCRICAO VL_SALDO_INICIAL  \\\n",
       "0  Outras Despesas com Localização e Funcionamento                0   \n",
       "1  Outras Despesas com Localização e Funcionamento                0   \n",
       "\n",
       "  VL_SALDO_FINAL  \n",
       "0       91066,19  \n",
       "1       91066,19  "
      ]
     },
     "execution_count": 29,
     "metadata": {},
     "output_type": "execute_result"
    }
   ],
   "source": [
    "df_1T2024.head(2)"
   ]
  },
  {
   "cell_type": "code",
   "execution_count": 30,
   "metadata": {},
   "outputs": [
    {
     "name": "stdout",
     "output_type": "stream",
     "text": [
      "<class 'pandas.core.frame.DataFrame'>\n",
      "RangeIndex: 689695 entries, 0 to 689694\n",
      "Data columns (total 6 columns):\n",
      " #   Column             Non-Null Count   Dtype \n",
      "---  ------             --------------   ----- \n",
      " 0   DATA               689695 non-null  object\n",
      " 1   REG_ANS            689695 non-null  int64 \n",
      " 2   CD_CONTA_CONTABIL  689695 non-null  int64 \n",
      " 3   DESCRICAO          689695 non-null  object\n",
      " 4   VL_SALDO_INICIAL   689695 non-null  object\n",
      " 5   VL_SALDO_FINAL     689695 non-null  object\n",
      "dtypes: int64(2), object(4)\n",
      "memory usage: 31.6+ MB\n"
     ]
    }
   ],
   "source": [
    "df_1T2024.info()"
   ]
  },
  {
   "cell_type": "markdown",
   "metadata": {},
   "source": [
    "### df_2T2024"
   ]
  },
  {
   "cell_type": "code",
   "execution_count": 31,
   "metadata": {},
   "outputs": [
    {
     "data": {
      "text/html": [
       "<div>\n",
       "<style scoped>\n",
       "    .dataframe tbody tr th:only-of-type {\n",
       "        vertical-align: middle;\n",
       "    }\n",
       "\n",
       "    .dataframe tbody tr th {\n",
       "        vertical-align: top;\n",
       "    }\n",
       "\n",
       "    .dataframe thead th {\n",
       "        text-align: right;\n",
       "    }\n",
       "</style>\n",
       "<table border=\"1\" class=\"dataframe\">\n",
       "  <thead>\n",
       "    <tr style=\"text-align: right;\">\n",
       "      <th></th>\n",
       "      <th>DATA</th>\n",
       "      <th>REG_ANS</th>\n",
       "      <th>CD_CONTA_CONTABIL</th>\n",
       "      <th>DESCRICAO</th>\n",
       "      <th>VL_SALDO_INICIAL</th>\n",
       "      <th>VL_SALDO_FINAL</th>\n",
       "    </tr>\n",
       "  </thead>\n",
       "  <tbody>\n",
       "    <tr>\n",
       "      <th>0</th>\n",
       "      <td>2024-04-01</td>\n",
       "      <td>335100</td>\n",
       "      <td>441919119</td>\n",
       "      <td>(-) Reversão da Prov. Sobre Contraprest. Pecun...</td>\n",
       "      <td>0</td>\n",
       "      <td>-404304,78</td>\n",
       "    </tr>\n",
       "    <tr>\n",
       "      <th>1</th>\n",
       "      <td>2024-04-01</td>\n",
       "      <td>335100</td>\n",
       "      <td>44191912</td>\n",
       "      <td>Provisão Sobre Demais Créditos de Operações de...</td>\n",
       "      <td>185369</td>\n",
       "      <td>533624,98</td>\n",
       "    </tr>\n",
       "  </tbody>\n",
       "</table>\n",
       "</div>"
      ],
      "text/plain": [
       "         DATA  REG_ANS  CD_CONTA_CONTABIL  \\\n",
       "0  2024-04-01   335100          441919119   \n",
       "1  2024-04-01   335100           44191912   \n",
       "\n",
       "                                           DESCRICAO VL_SALDO_INICIAL  \\\n",
       "0  (-) Reversão da Prov. Sobre Contraprest. Pecun...                0   \n",
       "1  Provisão Sobre Demais Créditos de Operações de...           185369   \n",
       "\n",
       "  VL_SALDO_FINAL  \n",
       "0     -404304,78  \n",
       "1      533624,98  "
      ]
     },
     "execution_count": 31,
     "metadata": {},
     "output_type": "execute_result"
    }
   ],
   "source": [
    "df_2T2024.head(2)"
   ]
  },
  {
   "cell_type": "code",
   "execution_count": 32,
   "metadata": {},
   "outputs": [
    {
     "name": "stdout",
     "output_type": "stream",
     "text": [
      "<class 'pandas.core.frame.DataFrame'>\n",
      "RangeIndex: 708106 entries, 0 to 708105\n",
      "Data columns (total 6 columns):\n",
      " #   Column             Non-Null Count   Dtype \n",
      "---  ------             --------------   ----- \n",
      " 0   DATA               708106 non-null  object\n",
      " 1   REG_ANS            708106 non-null  int64 \n",
      " 2   CD_CONTA_CONTABIL  708106 non-null  int64 \n",
      " 3   DESCRICAO          708106 non-null  object\n",
      " 4   VL_SALDO_INICIAL   708106 non-null  object\n",
      " 5   VL_SALDO_FINAL     708106 non-null  object\n",
      "dtypes: int64(2), object(4)\n",
      "memory usage: 32.4+ MB\n"
     ]
    }
   ],
   "source": [
    "df_2T2024.info()"
   ]
  },
  {
   "cell_type": "markdown",
   "metadata": {},
   "source": [
    "### df_3T2024"
   ]
  },
  {
   "cell_type": "code",
   "execution_count": 33,
   "metadata": {},
   "outputs": [
    {
     "data": {
      "text/html": [
       "<div>\n",
       "<style scoped>\n",
       "    .dataframe tbody tr th:only-of-type {\n",
       "        vertical-align: middle;\n",
       "    }\n",
       "\n",
       "    .dataframe tbody tr th {\n",
       "        vertical-align: top;\n",
       "    }\n",
       "\n",
       "    .dataframe thead th {\n",
       "        text-align: right;\n",
       "    }\n",
       "</style>\n",
       "<table border=\"1\" class=\"dataframe\">\n",
       "  <thead>\n",
       "    <tr style=\"text-align: right;\">\n",
       "      <th></th>\n",
       "      <th>DATA</th>\n",
       "      <th>REG_ANS</th>\n",
       "      <th>CD_CONTA_CONTABIL</th>\n",
       "      <th>DESCRICAO</th>\n",
       "      <th>VL_SALDO_INICIAL</th>\n",
       "      <th>VL_SALDO_FINAL</th>\n",
       "    </tr>\n",
       "  </thead>\n",
       "  <tbody>\n",
       "    <tr>\n",
       "      <th>0</th>\n",
       "      <td>2024-07-01</td>\n",
       "      <td>325031</td>\n",
       "      <td>21621901</td>\n",
       "      <td>Retenções de Imposto e Contribuições</td>\n",
       "      <td>646849,11</td>\n",
       "      <td>635100,55</td>\n",
       "    </tr>\n",
       "    <tr>\n",
       "      <th>1</th>\n",
       "      <td>2024-07-01</td>\n",
       "      <td>325031</td>\n",
       "      <td>216219011</td>\n",
       "      <td>Imposto de Renda Retido na Fonte - de Funcioná...</td>\n",
       "      <td>47344,81</td>\n",
       "      <td>45741,28</td>\n",
       "    </tr>\n",
       "  </tbody>\n",
       "</table>\n",
       "</div>"
      ],
      "text/plain": [
       "         DATA  REG_ANS  CD_CONTA_CONTABIL  \\\n",
       "0  2024-07-01   325031           21621901   \n",
       "1  2024-07-01   325031          216219011   \n",
       "\n",
       "                                           DESCRICAO VL_SALDO_INICIAL  \\\n",
       "0               Retenções de Imposto e Contribuições        646849,11   \n",
       "1  Imposto de Renda Retido na Fonte - de Funcioná...         47344,81   \n",
       "\n",
       "  VL_SALDO_FINAL  \n",
       "0      635100,55  \n",
       "1       45741,28  "
      ]
     },
     "execution_count": 33,
     "metadata": {},
     "output_type": "execute_result"
    }
   ],
   "source": [
    "df_3T2024.head(2)"
   ]
  },
  {
   "cell_type": "code",
   "execution_count": 34,
   "metadata": {},
   "outputs": [
    {
     "name": "stdout",
     "output_type": "stream",
     "text": [
      "<class 'pandas.core.frame.DataFrame'>\n",
      "RangeIndex: 721821 entries, 0 to 721820\n",
      "Data columns (total 6 columns):\n",
      " #   Column             Non-Null Count   Dtype \n",
      "---  ------             --------------   ----- \n",
      " 0   DATA               721821 non-null  object\n",
      " 1   REG_ANS            721821 non-null  int64 \n",
      " 2   CD_CONTA_CONTABIL  721821 non-null  int64 \n",
      " 3   DESCRICAO          721821 non-null  object\n",
      " 4   VL_SALDO_INICIAL   721821 non-null  object\n",
      " 5   VL_SALDO_FINAL     721821 non-null  object\n",
      "dtypes: int64(2), object(4)\n",
      "memory usage: 33.0+ MB\n"
     ]
    }
   ],
   "source": [
    "df_3T2024.info()"
   ]
  },
  {
   "cell_type": "markdown",
   "metadata": {},
   "source": [
    "# Alterar o separador décimal das colunas: *VL_SALDO_INICIAL* e *VL_SALDO_FINAL*"
   ]
  },
  {
   "cell_type": "code",
   "execution_count": 35,
   "metadata": {},
   "outputs": [],
   "source": [
    "df_1T2024['VL_SALDO_INICIAL'] = df_1T2024['VL_SALDO_INICIAL'].str.replace(',', '.').astype(float)\n",
    "df_1T2024['VL_SALDO_FINAL'] = df_1T2024['VL_SALDO_FINAL'].str.replace(',', '.').astype(float)"
   ]
  },
  {
   "cell_type": "code",
   "execution_count": 36,
   "metadata": {},
   "outputs": [],
   "source": [
    "df_2T2024['VL_SALDO_INICIAL'] = df_2T2024['VL_SALDO_INICIAL'].str.replace(',', '.').astype(float)\n",
    "df_2T2024['VL_SALDO_FINAL'] = df_2T2024['VL_SALDO_FINAL'].str.replace(',', '.').astype(float)"
   ]
  },
  {
   "cell_type": "code",
   "execution_count": 37,
   "metadata": {},
   "outputs": [],
   "source": [
    "df_3T2024['VL_SALDO_INICIAL'] = df_3T2024['VL_SALDO_INICIAL'].str.replace(',', '.').astype(float)\n",
    "df_3T2024['VL_SALDO_FINAL'] = df_3T2024['VL_SALDO_FINAL'].str.replace(',', '.').astype(float)"
   ]
  },
  {
   "cell_type": "code",
   "execution_count": 38,
   "metadata": {},
   "outputs": [
    {
     "data": {
      "text/html": [
       "<div>\n",
       "<style scoped>\n",
       "    .dataframe tbody tr th:only-of-type {\n",
       "        vertical-align: middle;\n",
       "    }\n",
       "\n",
       "    .dataframe tbody tr th {\n",
       "        vertical-align: top;\n",
       "    }\n",
       "\n",
       "    .dataframe thead th {\n",
       "        text-align: right;\n",
       "    }\n",
       "</style>\n",
       "<table border=\"1\" class=\"dataframe\">\n",
       "  <thead>\n",
       "    <tr style=\"text-align: right;\">\n",
       "      <th></th>\n",
       "      <th>DATA</th>\n",
       "      <th>REG_ANS</th>\n",
       "      <th>CD_CONTA_CONTABIL</th>\n",
       "      <th>DESCRICAO</th>\n",
       "      <th>VL_SALDO_INICIAL</th>\n",
       "      <th>VL_SALDO_FINAL</th>\n",
       "    </tr>\n",
       "  </thead>\n",
       "  <tbody>\n",
       "    <tr>\n",
       "      <th>0</th>\n",
       "      <td>2024-01-01</td>\n",
       "      <td>356476</td>\n",
       "      <td>463919</td>\n",
       "      <td>Outras Despesas com Localização e Funcionamento</td>\n",
       "      <td>0.0</td>\n",
       "      <td>91066.19</td>\n",
       "    </tr>\n",
       "    <tr>\n",
       "      <th>1</th>\n",
       "      <td>2024-01-01</td>\n",
       "      <td>356476</td>\n",
       "      <td>46391901</td>\n",
       "      <td>Outras Despesas com Localização e Funcionamento</td>\n",
       "      <td>0.0</td>\n",
       "      <td>91066.19</td>\n",
       "    </tr>\n",
       "  </tbody>\n",
       "</table>\n",
       "</div>"
      ],
      "text/plain": [
       "         DATA  REG_ANS  CD_CONTA_CONTABIL  \\\n",
       "0  2024-01-01   356476             463919   \n",
       "1  2024-01-01   356476           46391901   \n",
       "\n",
       "                                         DESCRICAO  VL_SALDO_INICIAL  \\\n",
       "0  Outras Despesas com Localização e Funcionamento               0.0   \n",
       "1  Outras Despesas com Localização e Funcionamento               0.0   \n",
       "\n",
       "   VL_SALDO_FINAL  \n",
       "0        91066.19  \n",
       "1        91066.19  "
      ]
     },
     "execution_count": 38,
     "metadata": {},
     "output_type": "execute_result"
    }
   ],
   "source": [
    "df_1T2024.head(2)"
   ]
  },
  {
   "cell_type": "code",
   "execution_count": 39,
   "metadata": {},
   "outputs": [
    {
     "data": {
      "text/html": [
       "<div>\n",
       "<style scoped>\n",
       "    .dataframe tbody tr th:only-of-type {\n",
       "        vertical-align: middle;\n",
       "    }\n",
       "\n",
       "    .dataframe tbody tr th {\n",
       "        vertical-align: top;\n",
       "    }\n",
       "\n",
       "    .dataframe thead th {\n",
       "        text-align: right;\n",
       "    }\n",
       "</style>\n",
       "<table border=\"1\" class=\"dataframe\">\n",
       "  <thead>\n",
       "    <tr style=\"text-align: right;\">\n",
       "      <th></th>\n",
       "      <th>DATA</th>\n",
       "      <th>REG_ANS</th>\n",
       "      <th>CD_CONTA_CONTABIL</th>\n",
       "      <th>DESCRICAO</th>\n",
       "      <th>VL_SALDO_INICIAL</th>\n",
       "      <th>VL_SALDO_FINAL</th>\n",
       "    </tr>\n",
       "  </thead>\n",
       "  <tbody>\n",
       "    <tr>\n",
       "      <th>0</th>\n",
       "      <td>2024-04-01</td>\n",
       "      <td>335100</td>\n",
       "      <td>441919119</td>\n",
       "      <td>(-) Reversão da Prov. Sobre Contraprest. Pecun...</td>\n",
       "      <td>0.0</td>\n",
       "      <td>-404304.78</td>\n",
       "    </tr>\n",
       "    <tr>\n",
       "      <th>1</th>\n",
       "      <td>2024-04-01</td>\n",
       "      <td>335100</td>\n",
       "      <td>44191912</td>\n",
       "      <td>Provisão Sobre Demais Créditos de Operações de...</td>\n",
       "      <td>185369.0</td>\n",
       "      <td>533624.98</td>\n",
       "    </tr>\n",
       "  </tbody>\n",
       "</table>\n",
       "</div>"
      ],
      "text/plain": [
       "         DATA  REG_ANS  CD_CONTA_CONTABIL  \\\n",
       "0  2024-04-01   335100          441919119   \n",
       "1  2024-04-01   335100           44191912   \n",
       "\n",
       "                                           DESCRICAO  VL_SALDO_INICIAL  \\\n",
       "0  (-) Reversão da Prov. Sobre Contraprest. Pecun...               0.0   \n",
       "1  Provisão Sobre Demais Créditos de Operações de...          185369.0   \n",
       "\n",
       "   VL_SALDO_FINAL  \n",
       "0      -404304.78  \n",
       "1       533624.98  "
      ]
     },
     "execution_count": 39,
     "metadata": {},
     "output_type": "execute_result"
    }
   ],
   "source": [
    "df_2T2024.head(2)"
   ]
  },
  {
   "cell_type": "code",
   "execution_count": 40,
   "metadata": {},
   "outputs": [
    {
     "data": {
      "text/html": [
       "<div>\n",
       "<style scoped>\n",
       "    .dataframe tbody tr th:only-of-type {\n",
       "        vertical-align: middle;\n",
       "    }\n",
       "\n",
       "    .dataframe tbody tr th {\n",
       "        vertical-align: top;\n",
       "    }\n",
       "\n",
       "    .dataframe thead th {\n",
       "        text-align: right;\n",
       "    }\n",
       "</style>\n",
       "<table border=\"1\" class=\"dataframe\">\n",
       "  <thead>\n",
       "    <tr style=\"text-align: right;\">\n",
       "      <th></th>\n",
       "      <th>DATA</th>\n",
       "      <th>REG_ANS</th>\n",
       "      <th>CD_CONTA_CONTABIL</th>\n",
       "      <th>DESCRICAO</th>\n",
       "      <th>VL_SALDO_INICIAL</th>\n",
       "      <th>VL_SALDO_FINAL</th>\n",
       "    </tr>\n",
       "  </thead>\n",
       "  <tbody>\n",
       "    <tr>\n",
       "      <th>0</th>\n",
       "      <td>2024-07-01</td>\n",
       "      <td>325031</td>\n",
       "      <td>21621901</td>\n",
       "      <td>Retenções de Imposto e Contribuições</td>\n",
       "      <td>646849.11</td>\n",
       "      <td>635100.55</td>\n",
       "    </tr>\n",
       "    <tr>\n",
       "      <th>1</th>\n",
       "      <td>2024-07-01</td>\n",
       "      <td>325031</td>\n",
       "      <td>216219011</td>\n",
       "      <td>Imposto de Renda Retido na Fonte - de Funcioná...</td>\n",
       "      <td>47344.81</td>\n",
       "      <td>45741.28</td>\n",
       "    </tr>\n",
       "  </tbody>\n",
       "</table>\n",
       "</div>"
      ],
      "text/plain": [
       "         DATA  REG_ANS  CD_CONTA_CONTABIL  \\\n",
       "0  2024-07-01   325031           21621901   \n",
       "1  2024-07-01   325031          216219011   \n",
       "\n",
       "                                           DESCRICAO  VL_SALDO_INICIAL  \\\n",
       "0               Retenções de Imposto e Contribuições         646849.11   \n",
       "1  Imposto de Renda Retido na Fonte - de Funcioná...          47344.81   \n",
       "\n",
       "   VL_SALDO_FINAL  \n",
       "0       635100.55  \n",
       "1        45741.28  "
      ]
     },
     "execution_count": 40,
     "metadata": {},
     "output_type": "execute_result"
    }
   ],
   "source": [
    "df_3T2024.head(2)"
   ]
  },
  {
   "cell_type": "markdown",
   "metadata": {},
   "source": [
    "# Remover espaços em branco"
   ]
  },
  {
   "cell_type": "code",
   "execution_count": 43,
   "metadata": {},
   "outputs": [],
   "source": [
    "df_1T2024['DESCRICAO'] = df_1T2024['DESCRICAO'].str.strip()\n",
    "df_2T2024['DESCRICAO'] = df_2T2024['DESCRICAO'].str.strip()\n",
    "df_3T2024['DESCRICAO'] = df_3T2024['DESCRICAO'].str.strip()"
   ]
  },
  {
   "cell_type": "markdown",
   "metadata": {},
   "source": [
    "# Concatenar os datasets"
   ]
  },
  {
   "cell_type": "code",
   "execution_count": 50,
   "metadata": {},
   "outputs": [],
   "source": [
    "df_demonstracoes_contabeis_2024_v1 = pd.concat([df_1T2024, df_2T2024, df_3T2024], ignore_index=True)"
   ]
  },
  {
   "cell_type": "code",
   "execution_count": 51,
   "metadata": {},
   "outputs": [
    {
     "data": {
      "text/html": [
       "<div>\n",
       "<style scoped>\n",
       "    .dataframe tbody tr th:only-of-type {\n",
       "        vertical-align: middle;\n",
       "    }\n",
       "\n",
       "    .dataframe tbody tr th {\n",
       "        vertical-align: top;\n",
       "    }\n",
       "\n",
       "    .dataframe thead th {\n",
       "        text-align: right;\n",
       "    }\n",
       "</style>\n",
       "<table border=\"1\" class=\"dataframe\">\n",
       "  <thead>\n",
       "    <tr style=\"text-align: right;\">\n",
       "      <th></th>\n",
       "      <th>DATA</th>\n",
       "      <th>REG_ANS</th>\n",
       "      <th>CD_CONTA_CONTABIL</th>\n",
       "      <th>DESCRICAO</th>\n",
       "      <th>VL_SALDO_INICIAL</th>\n",
       "      <th>VL_SALDO_FINAL</th>\n",
       "    </tr>\n",
       "  </thead>\n",
       "  <tbody>\n",
       "    <tr>\n",
       "      <th>0</th>\n",
       "      <td>2024-01-01</td>\n",
       "      <td>356476</td>\n",
       "      <td>463919</td>\n",
       "      <td>Outras Despesas com Localização e Funcionamento</td>\n",
       "      <td>0.00</td>\n",
       "      <td>91066.19</td>\n",
       "    </tr>\n",
       "    <tr>\n",
       "      <th>1</th>\n",
       "      <td>2024-01-01</td>\n",
       "      <td>356476</td>\n",
       "      <td>46391901</td>\n",
       "      <td>Outras Despesas com Localização e Funcionamento</td>\n",
       "      <td>0.00</td>\n",
       "      <td>91066.19</td>\n",
       "    </tr>\n",
       "    <tr>\n",
       "      <th>2</th>\n",
       "      <td>2024-01-01</td>\n",
       "      <td>356476</td>\n",
       "      <td>463919011</td>\n",
       "      <td>Despesas com Expediente</td>\n",
       "      <td>0.00</td>\n",
       "      <td>34059.68</td>\n",
       "    </tr>\n",
       "    <tr>\n",
       "      <th>3</th>\n",
       "      <td>2024-01-01</td>\n",
       "      <td>356476</td>\n",
       "      <td>463919012</td>\n",
       "      <td>Despesas com Seguros</td>\n",
       "      <td>0.00</td>\n",
       "      <td>342.47</td>\n",
       "    </tr>\n",
       "    <tr>\n",
       "      <th>4</th>\n",
       "      <td>2024-01-01</td>\n",
       "      <td>356476</td>\n",
       "      <td>463919013</td>\n",
       "      <td>Despesas com Locomoção</td>\n",
       "      <td>0.00</td>\n",
       "      <td>21801.81</td>\n",
       "    </tr>\n",
       "    <tr>\n",
       "      <th>...</th>\n",
       "      <td>...</td>\n",
       "      <td>...</td>\n",
       "      <td>...</td>\n",
       "      <td>...</td>\n",
       "      <td>...</td>\n",
       "      <td>...</td>\n",
       "    </tr>\n",
       "    <tr>\n",
       "      <th>2119617</th>\n",
       "      <td>2024-07-01</td>\n",
       "      <td>348261</td>\n",
       "      <td>441919011</td>\n",
       "      <td>Provisão Sobre Contraprest. Pecuniárias/Prêmio...</td>\n",
       "      <td>254730.74</td>\n",
       "      <td>299866.25</td>\n",
       "    </tr>\n",
       "    <tr>\n",
       "      <th>2119618</th>\n",
       "      <td>2024-07-01</td>\n",
       "      <td>348261</td>\n",
       "      <td>441919019</td>\n",
       "      <td>(-) Reversão da Prov. Sobre Contraprest. Pecun...</td>\n",
       "      <td>-110906.67</td>\n",
       "      <td>-113750.64</td>\n",
       "    </tr>\n",
       "    <tr>\n",
       "      <th>2119619</th>\n",
       "      <td>2024-07-01</td>\n",
       "      <td>348261</td>\n",
       "      <td>44191902</td>\n",
       "      <td>Provisão Sobre Demais Créditos de Operações de...</td>\n",
       "      <td>33198.73</td>\n",
       "      <td>43349.83</td>\n",
       "    </tr>\n",
       "    <tr>\n",
       "      <th>2119620</th>\n",
       "      <td>2024-07-01</td>\n",
       "      <td>348261</td>\n",
       "      <td>441919021</td>\n",
       "      <td>Provisão Sobre Demais Créditos de Operações de...</td>\n",
       "      <td>39503.13</td>\n",
       "      <td>52421.76</td>\n",
       "    </tr>\n",
       "    <tr>\n",
       "      <th>2119621</th>\n",
       "      <td>2024-07-01</td>\n",
       "      <td>348261</td>\n",
       "      <td>441919029</td>\n",
       "      <td>(-) reversão da Provisão Sobre Demais Créditos...</td>\n",
       "      <td>-6304.40</td>\n",
       "      <td>-9071.93</td>\n",
       "    </tr>\n",
       "  </tbody>\n",
       "</table>\n",
       "<p>2119622 rows × 6 columns</p>\n",
       "</div>"
      ],
      "text/plain": [
       "               DATA  REG_ANS  CD_CONTA_CONTABIL  \\\n",
       "0        2024-01-01   356476             463919   \n",
       "1        2024-01-01   356476           46391901   \n",
       "2        2024-01-01   356476          463919011   \n",
       "3        2024-01-01   356476          463919012   \n",
       "4        2024-01-01   356476          463919013   \n",
       "...             ...      ...                ...   \n",
       "2119617  2024-07-01   348261          441919011   \n",
       "2119618  2024-07-01   348261          441919019   \n",
       "2119619  2024-07-01   348261           44191902   \n",
       "2119620  2024-07-01   348261          441919021   \n",
       "2119621  2024-07-01   348261          441919029   \n",
       "\n",
       "                                                 DESCRICAO  VL_SALDO_INICIAL  \\\n",
       "0          Outras Despesas com Localização e Funcionamento              0.00   \n",
       "1          Outras Despesas com Localização e Funcionamento              0.00   \n",
       "2                                  Despesas com Expediente              0.00   \n",
       "3                                     Despesas com Seguros              0.00   \n",
       "4                                   Despesas com Locomoção              0.00   \n",
       "...                                                    ...               ...   \n",
       "2119617  Provisão Sobre Contraprest. Pecuniárias/Prêmio...         254730.74   \n",
       "2119618  (-) Reversão da Prov. Sobre Contraprest. Pecun...        -110906.67   \n",
       "2119619  Provisão Sobre Demais Créditos de Operações de...          33198.73   \n",
       "2119620  Provisão Sobre Demais Créditos de Operações de...          39503.13   \n",
       "2119621  (-) reversão da Provisão Sobre Demais Créditos...          -6304.40   \n",
       "\n",
       "         VL_SALDO_FINAL  \n",
       "0              91066.19  \n",
       "1              91066.19  \n",
       "2              34059.68  \n",
       "3                342.47  \n",
       "4              21801.81  \n",
       "...                 ...  \n",
       "2119617       299866.25  \n",
       "2119618      -113750.64  \n",
       "2119619        43349.83  \n",
       "2119620        52421.76  \n",
       "2119621        -9071.93  \n",
       "\n",
       "[2119622 rows x 6 columns]"
      ]
     },
     "execution_count": 51,
     "metadata": {},
     "output_type": "execute_result"
    }
   ],
   "source": [
    "df_demonstracoes_contabeis_2024_v1"
   ]
  },
  {
   "cell_type": "markdown",
   "metadata": {},
   "source": [
    "# Adicionar a coluna trimestre"
   ]
  },
  {
   "cell_type": "code",
   "execution_count": 52,
   "metadata": {},
   "outputs": [],
   "source": [
    "mapeamento_data_trimestre = {\n",
    "    \"2024-01-01\": \"primeiro trimestre\",\n",
    "    \"2024-04-01\": \"segundo trimestre\",\n",
    "    \"2024-07-01\": \"terceiro trimestre\"\n",
    "}\n",
    "\n",
    "df_demonstracoes_contabeis_2024_v1[\"TRIMESTRE\"] = df_demonstracoes_contabeis_2024_v1[\"DATA\"].map(mapeamento_data_trimestre)"
   ]
  },
  {
   "cell_type": "code",
   "execution_count": 53,
   "metadata": {},
   "outputs": [
    {
     "data": {
      "text/html": [
       "<div>\n",
       "<style scoped>\n",
       "    .dataframe tbody tr th:only-of-type {\n",
       "        vertical-align: middle;\n",
       "    }\n",
       "\n",
       "    .dataframe tbody tr th {\n",
       "        vertical-align: top;\n",
       "    }\n",
       "\n",
       "    .dataframe thead th {\n",
       "        text-align: right;\n",
       "    }\n",
       "</style>\n",
       "<table border=\"1\" class=\"dataframe\">\n",
       "  <thead>\n",
       "    <tr style=\"text-align: right;\">\n",
       "      <th></th>\n",
       "      <th>DATA</th>\n",
       "      <th>REG_ANS</th>\n",
       "      <th>CD_CONTA_CONTABIL</th>\n",
       "      <th>DESCRICAO</th>\n",
       "      <th>VL_SALDO_INICIAL</th>\n",
       "      <th>VL_SALDO_FINAL</th>\n",
       "      <th>TRIMESTRE</th>\n",
       "    </tr>\n",
       "  </thead>\n",
       "  <tbody>\n",
       "    <tr>\n",
       "      <th>0</th>\n",
       "      <td>2024-01-01</td>\n",
       "      <td>356476</td>\n",
       "      <td>463919</td>\n",
       "      <td>Outras Despesas com Localização e Funcionamento</td>\n",
       "      <td>0.0</td>\n",
       "      <td>91066.19</td>\n",
       "      <td>primeiro trimestre</td>\n",
       "    </tr>\n",
       "    <tr>\n",
       "      <th>1</th>\n",
       "      <td>2024-01-01</td>\n",
       "      <td>356476</td>\n",
       "      <td>46391901</td>\n",
       "      <td>Outras Despesas com Localização e Funcionamento</td>\n",
       "      <td>0.0</td>\n",
       "      <td>91066.19</td>\n",
       "      <td>primeiro trimestre</td>\n",
       "    </tr>\n",
       "  </tbody>\n",
       "</table>\n",
       "</div>"
      ],
      "text/plain": [
       "         DATA  REG_ANS  CD_CONTA_CONTABIL  \\\n",
       "0  2024-01-01   356476             463919   \n",
       "1  2024-01-01   356476           46391901   \n",
       "\n",
       "                                         DESCRICAO  VL_SALDO_INICIAL  \\\n",
       "0  Outras Despesas com Localização e Funcionamento               0.0   \n",
       "1  Outras Despesas com Localização e Funcionamento               0.0   \n",
       "\n",
       "   VL_SALDO_FINAL           TRIMESTRE  \n",
       "0        91066.19  primeiro trimestre  \n",
       "1        91066.19  primeiro trimestre  "
      ]
     },
     "execution_count": 53,
     "metadata": {},
     "output_type": "execute_result"
    }
   ],
   "source": [
    "df_filtrado_primeiro_trimestre =  df_demonstracoes_contabeis_2024_v1[df_demonstracoes_contabeis_2024_v1['DATA'] == '2024-01-01']\n",
    "df_filtrado_primeiro_trimestre.head(2)"
   ]
  },
  {
   "cell_type": "code",
   "execution_count": 54,
   "metadata": {},
   "outputs": [
    {
     "data": {
      "text/html": [
       "<div>\n",
       "<style scoped>\n",
       "    .dataframe tbody tr th:only-of-type {\n",
       "        vertical-align: middle;\n",
       "    }\n",
       "\n",
       "    .dataframe tbody tr th {\n",
       "        vertical-align: top;\n",
       "    }\n",
       "\n",
       "    .dataframe thead th {\n",
       "        text-align: right;\n",
       "    }\n",
       "</style>\n",
       "<table border=\"1\" class=\"dataframe\">\n",
       "  <thead>\n",
       "    <tr style=\"text-align: right;\">\n",
       "      <th></th>\n",
       "      <th>DATA</th>\n",
       "      <th>REG_ANS</th>\n",
       "      <th>CD_CONTA_CONTABIL</th>\n",
       "      <th>DESCRICAO</th>\n",
       "      <th>VL_SALDO_INICIAL</th>\n",
       "      <th>VL_SALDO_FINAL</th>\n",
       "      <th>TRIMESTRE</th>\n",
       "    </tr>\n",
       "  </thead>\n",
       "  <tbody>\n",
       "    <tr>\n",
       "      <th>689695</th>\n",
       "      <td>2024-04-01</td>\n",
       "      <td>335100</td>\n",
       "      <td>441919119</td>\n",
       "      <td>(-) Reversão da Prov. Sobre Contraprest. Pecun...</td>\n",
       "      <td>0.0</td>\n",
       "      <td>-404304.78</td>\n",
       "      <td>segundo trimestre</td>\n",
       "    </tr>\n",
       "    <tr>\n",
       "      <th>689696</th>\n",
       "      <td>2024-04-01</td>\n",
       "      <td>335100</td>\n",
       "      <td>44191912</td>\n",
       "      <td>Provisão Sobre Demais Créditos de Operações de...</td>\n",
       "      <td>185369.0</td>\n",
       "      <td>533624.98</td>\n",
       "      <td>segundo trimestre</td>\n",
       "    </tr>\n",
       "  </tbody>\n",
       "</table>\n",
       "</div>"
      ],
      "text/plain": [
       "              DATA  REG_ANS  CD_CONTA_CONTABIL  \\\n",
       "689695  2024-04-01   335100          441919119   \n",
       "689696  2024-04-01   335100           44191912   \n",
       "\n",
       "                                                DESCRICAO  VL_SALDO_INICIAL  \\\n",
       "689695  (-) Reversão da Prov. Sobre Contraprest. Pecun...               0.0   \n",
       "689696  Provisão Sobre Demais Créditos de Operações de...          185369.0   \n",
       "\n",
       "        VL_SALDO_FINAL          TRIMESTRE  \n",
       "689695      -404304.78  segundo trimestre  \n",
       "689696       533624.98  segundo trimestre  "
      ]
     },
     "execution_count": 54,
     "metadata": {},
     "output_type": "execute_result"
    }
   ],
   "source": [
    "df_filtrado_segundo_trimestre =  df_demonstracoes_contabeis_2024_v1[df_demonstracoes_contabeis_2024_v1['DATA'] == '2024-04-01']\n",
    "df_filtrado_segundo_trimestre.head(2)"
   ]
  },
  {
   "cell_type": "code",
   "execution_count": 55,
   "metadata": {},
   "outputs": [
    {
     "data": {
      "text/html": [
       "<div>\n",
       "<style scoped>\n",
       "    .dataframe tbody tr th:only-of-type {\n",
       "        vertical-align: middle;\n",
       "    }\n",
       "\n",
       "    .dataframe tbody tr th {\n",
       "        vertical-align: top;\n",
       "    }\n",
       "\n",
       "    .dataframe thead th {\n",
       "        text-align: right;\n",
       "    }\n",
       "</style>\n",
       "<table border=\"1\" class=\"dataframe\">\n",
       "  <thead>\n",
       "    <tr style=\"text-align: right;\">\n",
       "      <th></th>\n",
       "      <th>DATA</th>\n",
       "      <th>REG_ANS</th>\n",
       "      <th>CD_CONTA_CONTABIL</th>\n",
       "      <th>DESCRICAO</th>\n",
       "      <th>VL_SALDO_INICIAL</th>\n",
       "      <th>VL_SALDO_FINAL</th>\n",
       "      <th>TRIMESTRE</th>\n",
       "    </tr>\n",
       "  </thead>\n",
       "  <tbody>\n",
       "    <tr>\n",
       "      <th>1397801</th>\n",
       "      <td>2024-07-01</td>\n",
       "      <td>325031</td>\n",
       "      <td>21621901</td>\n",
       "      <td>Retenções de Imposto e Contribuições</td>\n",
       "      <td>646849.11</td>\n",
       "      <td>635100.55</td>\n",
       "      <td>terceiro trimestre</td>\n",
       "    </tr>\n",
       "    <tr>\n",
       "      <th>1397802</th>\n",
       "      <td>2024-07-01</td>\n",
       "      <td>325031</td>\n",
       "      <td>216219011</td>\n",
       "      <td>Imposto de Renda Retido na Fonte - de Funcioná...</td>\n",
       "      <td>47344.81</td>\n",
       "      <td>45741.28</td>\n",
       "      <td>terceiro trimestre</td>\n",
       "    </tr>\n",
       "  </tbody>\n",
       "</table>\n",
       "</div>"
      ],
      "text/plain": [
       "               DATA  REG_ANS  CD_CONTA_CONTABIL  \\\n",
       "1397801  2024-07-01   325031           21621901   \n",
       "1397802  2024-07-01   325031          216219011   \n",
       "\n",
       "                                                 DESCRICAO  VL_SALDO_INICIAL  \\\n",
       "1397801               Retenções de Imposto e Contribuições         646849.11   \n",
       "1397802  Imposto de Renda Retido na Fonte - de Funcioná...          47344.81   \n",
       "\n",
       "         VL_SALDO_FINAL           TRIMESTRE  \n",
       "1397801       635100.55  terceiro trimestre  \n",
       "1397802        45741.28  terceiro trimestre  "
      ]
     },
     "execution_count": 55,
     "metadata": {},
     "output_type": "execute_result"
    }
   ],
   "source": [
    "df_filtrado_terceiro_trimestre =  df_demonstracoes_contabeis_2024_v1[df_demonstracoes_contabeis_2024_v1['DATA'] == '2024-07-01']\n",
    "df_filtrado_terceiro_trimestre.head(2)"
   ]
  },
  {
   "cell_type": "markdown",
   "metadata": {},
   "source": [
    "# Salvar o csv"
   ]
  },
  {
   "cell_type": "code",
   "execution_count": 60,
   "metadata": {},
   "outputs": [],
   "source": [
    "df_demonstracoes_contabeis_2024_v1.to_csv('df_demonstracoes_contabeis_2024_v1.csv', index=False, sep=\";\")"
   ]
  }
 ],
 "metadata": {
  "kernelspec": {
   "display_name": ".venv",
   "language": "python",
   "name": "python3"
  },
  "language_info": {
   "codemirror_mode": {
    "name": "ipython",
    "version": 3
   },
   "file_extension": ".py",
   "mimetype": "text/x-python",
   "name": "python",
   "nbconvert_exporter": "python",
   "pygments_lexer": "ipython3",
   "version": "3.12.0"
  }
 },
 "nbformat": 4,
 "nbformat_minor": 2
}
