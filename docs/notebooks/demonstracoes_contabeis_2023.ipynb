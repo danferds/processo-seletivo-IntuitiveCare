{
 "cells": [
  {
   "cell_type": "markdown",
   "metadata": {},
   "source": [
    "# Preparação do ambiente"
   ]
  },
  {
   "cell_type": "code",
   "execution_count": 531,
   "metadata": {},
   "outputs": [],
   "source": [
    "import pandas as pd\n",
    "\n",
    "caminho_1T2023 =  r\"C:\\dev\\processo_seletivo_intuitivecare\\datasets\\demonstracoes_contabeis_2023\\1T2023.zip\"\n",
    "caminho_2T2023 = r\"C:\\dev\\processo_seletivo_intuitivecare\\datasets\\demonstracoes_contabeis_2023\\2T2023.zip\"\n",
    "caminho_3T2023 = r\"C:\\dev\\processo_seletivo_intuitivecare\\datasets\\demonstracoes_contabeis_2023\\3T2023.zip\"\n",
    "caminho_4T2023 = r\"C:\\dev\\processo_seletivo_intuitivecare\\datasets\\demonstracoes_contabeis_2023\\4T2023.zip\""
   ]
  },
  {
   "cell_type": "markdown",
   "metadata": {},
   "source": [
    "# Exploração dos datasets"
   ]
  },
  {
   "cell_type": "code",
   "execution_count": 532,
   "metadata": {},
   "outputs": [],
   "source": [
    "df_1T2023 = pd.read_csv(caminho_1T2023, sep=';')\n",
    "df_2T2023 = pd.read_csv(caminho_2T2023, sep=';')\n",
    "df_3T2023 = pd.read_csv(caminho_3T2023, sep=';')\n",
    "df_4T2023 = pd.read_csv(caminho_4T2023, sep=';')"
   ]
  },
  {
   "cell_type": "markdown",
   "metadata": {},
   "source": [
    "### df_1T2023"
   ]
  },
  {
   "cell_type": "code",
   "execution_count": 533,
   "metadata": {},
   "outputs": [
    {
     "data": {
      "text/html": [
       "<div>\n",
       "<style scoped>\n",
       "    .dataframe tbody tr th:only-of-type {\n",
       "        vertical-align: middle;\n",
       "    }\n",
       "\n",
       "    .dataframe tbody tr th {\n",
       "        vertical-align: top;\n",
       "    }\n",
       "\n",
       "    .dataframe thead th {\n",
       "        text-align: right;\n",
       "    }\n",
       "</style>\n",
       "<table border=\"1\" class=\"dataframe\">\n",
       "  <thead>\n",
       "    <tr style=\"text-align: right;\">\n",
       "      <th></th>\n",
       "      <th>DATA</th>\n",
       "      <th>REG_ANS</th>\n",
       "      <th>CD_CONTA_CONTABIL</th>\n",
       "      <th>DESCRICAO</th>\n",
       "      <th>VL_SALDO_INICIAL</th>\n",
       "      <th>VL_SALDO_FINAL</th>\n",
       "    </tr>\n",
       "  </thead>\n",
       "  <tbody>\n",
       "    <tr>\n",
       "      <th>0</th>\n",
       "      <td>2023-01-01</td>\n",
       "      <td>360783</td>\n",
       "      <td>12391</td>\n",
       "      <td>OUTROS CRÉDITOS DE OPERAÇÕES DE ASSISTÊNCIA MÉ...</td>\n",
       "      <td>0</td>\n",
       "      <td>0</td>\n",
       "    </tr>\n",
       "    <tr>\n",
       "      <th>1</th>\n",
       "      <td>2023-01-01</td>\n",
       "      <td>360783</td>\n",
       "      <td>123911</td>\n",
       "      <td>Cobertura Assistencial com Preço Preestabelecido</td>\n",
       "      <td>0</td>\n",
       "      <td>0</td>\n",
       "    </tr>\n",
       "  </tbody>\n",
       "</table>\n",
       "</div>"
      ],
      "text/plain": [
       "         DATA  REG_ANS  CD_CONTA_CONTABIL  \\\n",
       "0  2023-01-01   360783              12391   \n",
       "1  2023-01-01   360783             123911   \n",
       "\n",
       "                                           DESCRICAO VL_SALDO_INICIAL  \\\n",
       "0  OUTROS CRÉDITOS DE OPERAÇÕES DE ASSISTÊNCIA MÉ...                0   \n",
       "1   Cobertura Assistencial com Preço Preestabelecido                0   \n",
       "\n",
       "  VL_SALDO_FINAL  \n",
       "0              0  \n",
       "1              0  "
      ]
     },
     "execution_count": 533,
     "metadata": {},
     "output_type": "execute_result"
    }
   ],
   "source": [
    "df_1T2023.head(2)"
   ]
  },
  {
   "cell_type": "code",
   "execution_count": 534,
   "metadata": {},
   "outputs": [
    {
     "name": "stdout",
     "output_type": "stream",
     "text": [
      "<class 'pandas.core.frame.DataFrame'>\n",
      "RangeIndex: 729476 entries, 0 to 729475\n",
      "Data columns (total 6 columns):\n",
      " #   Column             Non-Null Count   Dtype \n",
      "---  ------             --------------   ----- \n",
      " 0   DATA               729476 non-null  object\n",
      " 1   REG_ANS            729476 non-null  int64 \n",
      " 2   CD_CONTA_CONTABIL  729476 non-null  int64 \n",
      " 3   DESCRICAO          729476 non-null  object\n",
      " 4   VL_SALDO_INICIAL   729476 non-null  object\n",
      " 5   VL_SALDO_FINAL     729476 non-null  object\n",
      "dtypes: int64(2), object(4)\n",
      "memory usage: 33.4+ MB\n"
     ]
    }
   ],
   "source": [
    "df_1T2023.info()"
   ]
  },
  {
   "cell_type": "markdown",
   "metadata": {},
   "source": [
    "### df_2T2023"
   ]
  },
  {
   "cell_type": "code",
   "execution_count": 535,
   "metadata": {},
   "outputs": [
    {
     "data": {
      "text/html": [
       "<div>\n",
       "<style scoped>\n",
       "    .dataframe tbody tr th:only-of-type {\n",
       "        vertical-align: middle;\n",
       "    }\n",
       "\n",
       "    .dataframe tbody tr th {\n",
       "        vertical-align: top;\n",
       "    }\n",
       "\n",
       "    .dataframe thead th {\n",
       "        text-align: right;\n",
       "    }\n",
       "</style>\n",
       "<table border=\"1\" class=\"dataframe\">\n",
       "  <thead>\n",
       "    <tr style=\"text-align: right;\">\n",
       "      <th></th>\n",
       "      <th>DATA</th>\n",
       "      <th>REG_ANS</th>\n",
       "      <th>CD_CONTA_CONTABIL</th>\n",
       "      <th>DESCRICAO</th>\n",
       "      <th>VL_SALDO_INICIAL</th>\n",
       "      <th>VL_SALDO_FINAL</th>\n",
       "    </tr>\n",
       "  </thead>\n",
       "  <tbody>\n",
       "    <tr>\n",
       "      <th>0</th>\n",
       "      <td>2023-04-01</td>\n",
       "      <td>354066</td>\n",
       "      <td>12811</td>\n",
       "      <td>DESPESAS ADMINISTRATIVAS</td>\n",
       "      <td>658124,3</td>\n",
       "      <td>871046,4</td>\n",
       "    </tr>\n",
       "    <tr>\n",
       "      <th>1</th>\n",
       "      <td>2023-04-01</td>\n",
       "      <td>354066</td>\n",
       "      <td>128119</td>\n",
       "      <td>Despesas Administrativas</td>\n",
       "      <td>658124,3</td>\n",
       "      <td>871046,4</td>\n",
       "    </tr>\n",
       "  </tbody>\n",
       "</table>\n",
       "</div>"
      ],
      "text/plain": [
       "         DATA  REG_ANS  CD_CONTA_CONTABIL                 DESCRICAO  \\\n",
       "0  2023-04-01   354066              12811  DESPESAS ADMINISTRATIVAS   \n",
       "1  2023-04-01   354066             128119  Despesas Administrativas   \n",
       "\n",
       "  VL_SALDO_INICIAL VL_SALDO_FINAL  \n",
       "0         658124,3       871046,4  \n",
       "1         658124,3       871046,4  "
      ]
     },
     "execution_count": 535,
     "metadata": {},
     "output_type": "execute_result"
    }
   ],
   "source": [
    "df_2T2023.head(2)"
   ]
  },
  {
   "cell_type": "code",
   "execution_count": 536,
   "metadata": {},
   "outputs": [
    {
     "name": "stdout",
     "output_type": "stream",
     "text": [
      "<class 'pandas.core.frame.DataFrame'>\n",
      "RangeIndex: 742059 entries, 0 to 742058\n",
      "Data columns (total 6 columns):\n",
      " #   Column             Non-Null Count   Dtype \n",
      "---  ------             --------------   ----- \n",
      " 0   DATA               742059 non-null  object\n",
      " 1   REG_ANS            742059 non-null  int64 \n",
      " 2   CD_CONTA_CONTABIL  742059 non-null  int64 \n",
      " 3   DESCRICAO          742059 non-null  object\n",
      " 4   VL_SALDO_INICIAL   742059 non-null  object\n",
      " 5   VL_SALDO_FINAL     742059 non-null  object\n",
      "dtypes: int64(2), object(4)\n",
      "memory usage: 34.0+ MB\n"
     ]
    }
   ],
   "source": [
    "df_2T2023.info()"
   ]
  },
  {
   "cell_type": "markdown",
   "metadata": {},
   "source": [
    "### df_3T2023"
   ]
  },
  {
   "cell_type": "code",
   "execution_count": 537,
   "metadata": {},
   "outputs": [
    {
     "data": {
      "text/html": [
       "<div>\n",
       "<style scoped>\n",
       "    .dataframe tbody tr th:only-of-type {\n",
       "        vertical-align: middle;\n",
       "    }\n",
       "\n",
       "    .dataframe tbody tr th {\n",
       "        vertical-align: top;\n",
       "    }\n",
       "\n",
       "    .dataframe thead th {\n",
       "        text-align: right;\n",
       "    }\n",
       "</style>\n",
       "<table border=\"1\" class=\"dataframe\">\n",
       "  <thead>\n",
       "    <tr style=\"text-align: right;\">\n",
       "      <th></th>\n",
       "      <th>DATA</th>\n",
       "      <th>REG_ANS</th>\n",
       "      <th>CD_CONTA_CONTABIL</th>\n",
       "      <th>DESCRICAO</th>\n",
       "      <th>VL_SALDO_INICIAL</th>\n",
       "      <th>VL_SALDO_FINAL</th>\n",
       "    </tr>\n",
       "  </thead>\n",
       "  <tbody>\n",
       "    <tr>\n",
       "      <th>0</th>\n",
       "      <td>2023-07-01</td>\n",
       "      <td>414492</td>\n",
       "      <td>23772</td>\n",
       "      <td>FINANCIAMENTOS</td>\n",
       "      <td>160123,27</td>\n",
       "      <td>80061,73</td>\n",
       "    </tr>\n",
       "    <tr>\n",
       "      <th>1</th>\n",
       "      <td>2023-07-01</td>\n",
       "      <td>414492</td>\n",
       "      <td>237729</td>\n",
       "      <td>Financiamentos</td>\n",
       "      <td>160123,27</td>\n",
       "      <td>80061,73</td>\n",
       "    </tr>\n",
       "  </tbody>\n",
       "</table>\n",
       "</div>"
      ],
      "text/plain": [
       "         DATA  REG_ANS  CD_CONTA_CONTABIL       DESCRICAO VL_SALDO_INICIAL  \\\n",
       "0  2023-07-01   414492              23772  FINANCIAMENTOS        160123,27   \n",
       "1  2023-07-01   414492             237729  Financiamentos        160123,27   \n",
       "\n",
       "  VL_SALDO_FINAL  \n",
       "0       80061,73  \n",
       "1       80061,73  "
      ]
     },
     "execution_count": 537,
     "metadata": {},
     "output_type": "execute_result"
    }
   ],
   "source": [
    "df_3T2023.head(2)"
   ]
  },
  {
   "cell_type": "code",
   "execution_count": 538,
   "metadata": {},
   "outputs": [
    {
     "name": "stdout",
     "output_type": "stream",
     "text": [
      "<class 'pandas.core.frame.DataFrame'>\n",
      "RangeIndex: 764300 entries, 0 to 764299\n",
      "Data columns (total 6 columns):\n",
      " #   Column             Non-Null Count   Dtype \n",
      "---  ------             --------------   ----- \n",
      " 0   DATA               764300 non-null  object\n",
      " 1   REG_ANS            764300 non-null  int64 \n",
      " 2   CD_CONTA_CONTABIL  764300 non-null  int64 \n",
      " 3   DESCRICAO          764300 non-null  object\n",
      " 4   VL_SALDO_INICIAL   764300 non-null  object\n",
      " 5   VL_SALDO_FINAL     764300 non-null  object\n",
      "dtypes: int64(2), object(4)\n",
      "memory usage: 35.0+ MB\n"
     ]
    }
   ],
   "source": [
    "df_3T2023.info()"
   ]
  },
  {
   "cell_type": "markdown",
   "metadata": {},
   "source": [
    "### df_4T2023"
   ]
  },
  {
   "cell_type": "code",
   "execution_count": 539,
   "metadata": {},
   "outputs": [
    {
     "data": {
      "text/html": [
       "<div>\n",
       "<style scoped>\n",
       "    .dataframe tbody tr th:only-of-type {\n",
       "        vertical-align: middle;\n",
       "    }\n",
       "\n",
       "    .dataframe tbody tr th {\n",
       "        vertical-align: top;\n",
       "    }\n",
       "\n",
       "    .dataframe thead th {\n",
       "        text-align: right;\n",
       "    }\n",
       "</style>\n",
       "<table border=\"1\" class=\"dataframe\">\n",
       "  <thead>\n",
       "    <tr style=\"text-align: right;\">\n",
       "      <th></th>\n",
       "      <th>DATA</th>\n",
       "      <th>REG_ANS</th>\n",
       "      <th>CD_CONTA_CONTABIL</th>\n",
       "      <th>DESCRICAO</th>\n",
       "      <th>VL_SALDO_INICIAL</th>\n",
       "      <th>VL_SALDO_FINAL</th>\n",
       "    </tr>\n",
       "  </thead>\n",
       "  <tbody>\n",
       "    <tr>\n",
       "      <th>0</th>\n",
       "      <td>01/10/2023</td>\n",
       "      <td>422941</td>\n",
       "      <td>461719011</td>\n",
       "      <td>Alimentação ao Trabalhador</td>\n",
       "      <td>7272,27</td>\n",
       "      <td>9882,25</td>\n",
       "    </tr>\n",
       "    <tr>\n",
       "      <th>1</th>\n",
       "      <td>01/10/2023</td>\n",
       "      <td>422941</td>\n",
       "      <td>4618</td>\n",
       "      <td>DESPESAS COM TRANSPORTE DE EMPREGADOS</td>\n",
       "      <td>4222,75</td>\n",
       "      <td>5008,33</td>\n",
       "    </tr>\n",
       "  </tbody>\n",
       "</table>\n",
       "</div>"
      ],
      "text/plain": [
       "         DATA  REG_ANS  CD_CONTA_CONTABIL  \\\n",
       "0  01/10/2023   422941          461719011   \n",
       "1  01/10/2023   422941               4618   \n",
       "\n",
       "                               DESCRICAO VL_SALDO_INICIAL VL_SALDO_FINAL  \n",
       "0             Alimentação ao Trabalhador          7272,27        9882,25  \n",
       "1  DESPESAS COM TRANSPORTE DE EMPREGADOS          4222,75        5008,33  "
      ]
     },
     "execution_count": 539,
     "metadata": {},
     "output_type": "execute_result"
    }
   ],
   "source": [
    "df_4T2023.head(2)"
   ]
  },
  {
   "cell_type": "markdown",
   "metadata": {},
   "source": [
    "# Alterar o separador décimal das colunas: *VL_SALDO_INICIAL* e *VL_SALDO_FINAL*"
   ]
  },
  {
   "cell_type": "code",
   "execution_count": 540,
   "metadata": {},
   "outputs": [],
   "source": [
    "df_1T2023['VL_SALDO_INICIAL'] = df_1T2023['VL_SALDO_INICIAL'].str.replace(',', '.').astype(float)\n",
    "df_1T2023['VL_SALDO_FINAL'] = df_1T2023['VL_SALDO_FINAL'].str.replace(',', '.').astype(float)"
   ]
  },
  {
   "cell_type": "code",
   "execution_count": 541,
   "metadata": {},
   "outputs": [],
   "source": [
    "df_2T2023['VL_SALDO_INICIAL'] = df_2T2023['VL_SALDO_INICIAL'].str.replace(',', '.').astype(float)\n",
    "df_2T2023['VL_SALDO_FINAL'] = df_2T2023['VL_SALDO_FINAL'].str.replace(',', '.').astype(float)"
   ]
  },
  {
   "cell_type": "code",
   "execution_count": 542,
   "metadata": {},
   "outputs": [],
   "source": [
    "df_3T2023['VL_SALDO_INICIAL'] = df_3T2023['VL_SALDO_INICIAL'].str.replace(',', '.').astype(float)\n",
    "df_3T2023['VL_SALDO_FINAL'] = df_3T2023['VL_SALDO_FINAL'].str.replace(',', '.').astype(float)"
   ]
  },
  {
   "cell_type": "code",
   "execution_count": 543,
   "metadata": {},
   "outputs": [],
   "source": [
    "df_4T2023['VL_SALDO_INICIAL'] = df_4T2023['VL_SALDO_INICIAL'].str.replace(',', '.').astype(float)\n",
    "df_4T2023['VL_SALDO_FINAL'] = df_4T2023['VL_SALDO_FINAL'].str.replace(',', '.').astype(float)"
   ]
  },
  {
   "cell_type": "code",
   "execution_count": 544,
   "metadata": {},
   "outputs": [
    {
     "data": {
      "text/html": [
       "<div>\n",
       "<style scoped>\n",
       "    .dataframe tbody tr th:only-of-type {\n",
       "        vertical-align: middle;\n",
       "    }\n",
       "\n",
       "    .dataframe tbody tr th {\n",
       "        vertical-align: top;\n",
       "    }\n",
       "\n",
       "    .dataframe thead th {\n",
       "        text-align: right;\n",
       "    }\n",
       "</style>\n",
       "<table border=\"1\" class=\"dataframe\">\n",
       "  <thead>\n",
       "    <tr style=\"text-align: right;\">\n",
       "      <th></th>\n",
       "      <th>DATA</th>\n",
       "      <th>REG_ANS</th>\n",
       "      <th>CD_CONTA_CONTABIL</th>\n",
       "      <th>DESCRICAO</th>\n",
       "      <th>VL_SALDO_INICIAL</th>\n",
       "      <th>VL_SALDO_FINAL</th>\n",
       "    </tr>\n",
       "  </thead>\n",
       "  <tbody>\n",
       "    <tr>\n",
       "      <th>0</th>\n",
       "      <td>2023-01-01</td>\n",
       "      <td>360783</td>\n",
       "      <td>12391</td>\n",
       "      <td>OUTROS CRÉDITOS DE OPERAÇÕES DE ASSISTÊNCIA MÉ...</td>\n",
       "      <td>0.0</td>\n",
       "      <td>0.0</td>\n",
       "    </tr>\n",
       "    <tr>\n",
       "      <th>1</th>\n",
       "      <td>2023-01-01</td>\n",
       "      <td>360783</td>\n",
       "      <td>123911</td>\n",
       "      <td>Cobertura Assistencial com Preço Preestabelecido</td>\n",
       "      <td>0.0</td>\n",
       "      <td>0.0</td>\n",
       "    </tr>\n",
       "  </tbody>\n",
       "</table>\n",
       "</div>"
      ],
      "text/plain": [
       "         DATA  REG_ANS  CD_CONTA_CONTABIL  \\\n",
       "0  2023-01-01   360783              12391   \n",
       "1  2023-01-01   360783             123911   \n",
       "\n",
       "                                           DESCRICAO  VL_SALDO_INICIAL  \\\n",
       "0  OUTROS CRÉDITOS DE OPERAÇÕES DE ASSISTÊNCIA MÉ...               0.0   \n",
       "1   Cobertura Assistencial com Preço Preestabelecido               0.0   \n",
       "\n",
       "   VL_SALDO_FINAL  \n",
       "0             0.0  \n",
       "1             0.0  "
      ]
     },
     "execution_count": 544,
     "metadata": {},
     "output_type": "execute_result"
    }
   ],
   "source": [
    "df_1T2023.head(2)"
   ]
  },
  {
   "cell_type": "code",
   "execution_count": 545,
   "metadata": {},
   "outputs": [
    {
     "data": {
      "text/html": [
       "<div>\n",
       "<style scoped>\n",
       "    .dataframe tbody tr th:only-of-type {\n",
       "        vertical-align: middle;\n",
       "    }\n",
       "\n",
       "    .dataframe tbody tr th {\n",
       "        vertical-align: top;\n",
       "    }\n",
       "\n",
       "    .dataframe thead th {\n",
       "        text-align: right;\n",
       "    }\n",
       "</style>\n",
       "<table border=\"1\" class=\"dataframe\">\n",
       "  <thead>\n",
       "    <tr style=\"text-align: right;\">\n",
       "      <th></th>\n",
       "      <th>DATA</th>\n",
       "      <th>REG_ANS</th>\n",
       "      <th>CD_CONTA_CONTABIL</th>\n",
       "      <th>DESCRICAO</th>\n",
       "      <th>VL_SALDO_INICIAL</th>\n",
       "      <th>VL_SALDO_FINAL</th>\n",
       "    </tr>\n",
       "  </thead>\n",
       "  <tbody>\n",
       "    <tr>\n",
       "      <th>0</th>\n",
       "      <td>2023-04-01</td>\n",
       "      <td>354066</td>\n",
       "      <td>12811</td>\n",
       "      <td>DESPESAS ADMINISTRATIVAS</td>\n",
       "      <td>658124.3</td>\n",
       "      <td>871046.4</td>\n",
       "    </tr>\n",
       "    <tr>\n",
       "      <th>1</th>\n",
       "      <td>2023-04-01</td>\n",
       "      <td>354066</td>\n",
       "      <td>128119</td>\n",
       "      <td>Despesas Administrativas</td>\n",
       "      <td>658124.3</td>\n",
       "      <td>871046.4</td>\n",
       "    </tr>\n",
       "  </tbody>\n",
       "</table>\n",
       "</div>"
      ],
      "text/plain": [
       "         DATA  REG_ANS  CD_CONTA_CONTABIL                 DESCRICAO  \\\n",
       "0  2023-04-01   354066              12811  DESPESAS ADMINISTRATIVAS   \n",
       "1  2023-04-01   354066             128119  Despesas Administrativas   \n",
       "\n",
       "   VL_SALDO_INICIAL  VL_SALDO_FINAL  \n",
       "0          658124.3        871046.4  \n",
       "1          658124.3        871046.4  "
      ]
     },
     "execution_count": 545,
     "metadata": {},
     "output_type": "execute_result"
    }
   ],
   "source": [
    "df_2T2023.head(2)"
   ]
  },
  {
   "cell_type": "code",
   "execution_count": 546,
   "metadata": {},
   "outputs": [
    {
     "data": {
      "text/html": [
       "<div>\n",
       "<style scoped>\n",
       "    .dataframe tbody tr th:only-of-type {\n",
       "        vertical-align: middle;\n",
       "    }\n",
       "\n",
       "    .dataframe tbody tr th {\n",
       "        vertical-align: top;\n",
       "    }\n",
       "\n",
       "    .dataframe thead th {\n",
       "        text-align: right;\n",
       "    }\n",
       "</style>\n",
       "<table border=\"1\" class=\"dataframe\">\n",
       "  <thead>\n",
       "    <tr style=\"text-align: right;\">\n",
       "      <th></th>\n",
       "      <th>DATA</th>\n",
       "      <th>REG_ANS</th>\n",
       "      <th>CD_CONTA_CONTABIL</th>\n",
       "      <th>DESCRICAO</th>\n",
       "      <th>VL_SALDO_INICIAL</th>\n",
       "      <th>VL_SALDO_FINAL</th>\n",
       "    </tr>\n",
       "  </thead>\n",
       "  <tbody>\n",
       "    <tr>\n",
       "      <th>0</th>\n",
       "      <td>2023-07-01</td>\n",
       "      <td>414492</td>\n",
       "      <td>23772</td>\n",
       "      <td>FINANCIAMENTOS</td>\n",
       "      <td>160123.27</td>\n",
       "      <td>80061.73</td>\n",
       "    </tr>\n",
       "    <tr>\n",
       "      <th>1</th>\n",
       "      <td>2023-07-01</td>\n",
       "      <td>414492</td>\n",
       "      <td>237729</td>\n",
       "      <td>Financiamentos</td>\n",
       "      <td>160123.27</td>\n",
       "      <td>80061.73</td>\n",
       "    </tr>\n",
       "  </tbody>\n",
       "</table>\n",
       "</div>"
      ],
      "text/plain": [
       "         DATA  REG_ANS  CD_CONTA_CONTABIL       DESCRICAO  VL_SALDO_INICIAL  \\\n",
       "0  2023-07-01   414492              23772  FINANCIAMENTOS         160123.27   \n",
       "1  2023-07-01   414492             237729  Financiamentos         160123.27   \n",
       "\n",
       "   VL_SALDO_FINAL  \n",
       "0        80061.73  \n",
       "1        80061.73  "
      ]
     },
     "execution_count": 546,
     "metadata": {},
     "output_type": "execute_result"
    }
   ],
   "source": [
    "df_3T2023.head(2)"
   ]
  },
  {
   "cell_type": "code",
   "execution_count": 547,
   "metadata": {},
   "outputs": [
    {
     "data": {
      "text/html": [
       "<div>\n",
       "<style scoped>\n",
       "    .dataframe tbody tr th:only-of-type {\n",
       "        vertical-align: middle;\n",
       "    }\n",
       "\n",
       "    .dataframe tbody tr th {\n",
       "        vertical-align: top;\n",
       "    }\n",
       "\n",
       "    .dataframe thead th {\n",
       "        text-align: right;\n",
       "    }\n",
       "</style>\n",
       "<table border=\"1\" class=\"dataframe\">\n",
       "  <thead>\n",
       "    <tr style=\"text-align: right;\">\n",
       "      <th></th>\n",
       "      <th>DATA</th>\n",
       "      <th>REG_ANS</th>\n",
       "      <th>CD_CONTA_CONTABIL</th>\n",
       "      <th>DESCRICAO</th>\n",
       "      <th>VL_SALDO_INICIAL</th>\n",
       "      <th>VL_SALDO_FINAL</th>\n",
       "    </tr>\n",
       "  </thead>\n",
       "  <tbody>\n",
       "    <tr>\n",
       "      <th>0</th>\n",
       "      <td>01/10/2023</td>\n",
       "      <td>422941</td>\n",
       "      <td>461719011</td>\n",
       "      <td>Alimentação ao Trabalhador</td>\n",
       "      <td>7272.27</td>\n",
       "      <td>9882.25</td>\n",
       "    </tr>\n",
       "    <tr>\n",
       "      <th>1</th>\n",
       "      <td>01/10/2023</td>\n",
       "      <td>422941</td>\n",
       "      <td>4618</td>\n",
       "      <td>DESPESAS COM TRANSPORTE DE EMPREGADOS</td>\n",
       "      <td>4222.75</td>\n",
       "      <td>5008.33</td>\n",
       "    </tr>\n",
       "  </tbody>\n",
       "</table>\n",
       "</div>"
      ],
      "text/plain": [
       "         DATA  REG_ANS  CD_CONTA_CONTABIL  \\\n",
       "0  01/10/2023   422941          461719011   \n",
       "1  01/10/2023   422941               4618   \n",
       "\n",
       "                               DESCRICAO  VL_SALDO_INICIAL  VL_SALDO_FINAL  \n",
       "0             Alimentação ao Trabalhador           7272.27         9882.25  \n",
       "1  DESPESAS COM TRANSPORTE DE EMPREGADOS           4222.75         5008.33  "
      ]
     },
     "execution_count": 547,
     "metadata": {},
     "output_type": "execute_result"
    }
   ],
   "source": [
    "df_4T2023.head(2)"
   ]
  },
  {
   "cell_type": "markdown",
   "metadata": {},
   "source": [
    "# Remover espaços em branco"
   ]
  },
  {
   "cell_type": "code",
   "execution_count": 548,
   "metadata": {},
   "outputs": [],
   "source": [
    "df_1T2023['DESCRICAO'] = df_1T2023['DESCRICAO'].str.strip()\n",
    "df_2T2023['DESCRICAO'] = df_2T2023['DESCRICAO'].str.strip()\n",
    "df_3T2023['DESCRICAO'] = df_3T2023['DESCRICAO'].str.strip()\n",
    "df_4T2023['DESCRICAO'] = df_4T2023['DESCRICAO'].str.strip()\n",
    "\n"
   ]
  },
  {
   "cell_type": "markdown",
   "metadata": {},
   "source": [
    "# Concatenar os datasets"
   ]
  },
  {
   "cell_type": "code",
   "execution_count": 549,
   "metadata": {},
   "outputs": [],
   "source": [
    "df_demonstracoes_contabeis_2023_v1 = pd.concat([df_1T2023, df_2T2023, df_3T2023, df_4T2023], ignore_index=True)"
   ]
  },
  {
   "cell_type": "code",
   "execution_count": 550,
   "metadata": {},
   "outputs": [
    {
     "data": {
      "text/html": [
       "<div>\n",
       "<style scoped>\n",
       "    .dataframe tbody tr th:only-of-type {\n",
       "        vertical-align: middle;\n",
       "    }\n",
       "\n",
       "    .dataframe tbody tr th {\n",
       "        vertical-align: top;\n",
       "    }\n",
       "\n",
       "    .dataframe thead th {\n",
       "        text-align: right;\n",
       "    }\n",
       "</style>\n",
       "<table border=\"1\" class=\"dataframe\">\n",
       "  <thead>\n",
       "    <tr style=\"text-align: right;\">\n",
       "      <th></th>\n",
       "      <th>DATA</th>\n",
       "      <th>REG_ANS</th>\n",
       "      <th>CD_CONTA_CONTABIL</th>\n",
       "      <th>DESCRICAO</th>\n",
       "      <th>VL_SALDO_INICIAL</th>\n",
       "      <th>VL_SALDO_FINAL</th>\n",
       "    </tr>\n",
       "  </thead>\n",
       "  <tbody>\n",
       "    <tr>\n",
       "      <th>0</th>\n",
       "      <td>2023-01-01</td>\n",
       "      <td>360783</td>\n",
       "      <td>12391</td>\n",
       "      <td>OUTROS CRÉDITOS DE OPERAÇÕES DE ASSISTÊNCIA MÉ...</td>\n",
       "      <td>0.00</td>\n",
       "      <td>0.00</td>\n",
       "    </tr>\n",
       "    <tr>\n",
       "      <th>1</th>\n",
       "      <td>2023-01-01</td>\n",
       "      <td>360783</td>\n",
       "      <td>123911</td>\n",
       "      <td>Cobertura Assistencial com Preço Preestabelecido</td>\n",
       "      <td>0.00</td>\n",
       "      <td>0.00</td>\n",
       "    </tr>\n",
       "    <tr>\n",
       "      <th>2</th>\n",
       "      <td>2023-01-01</td>\n",
       "      <td>360783</td>\n",
       "      <td>12391101</td>\n",
       "      <td>Resseguros</td>\n",
       "      <td>0.00</td>\n",
       "      <td>0.00</td>\n",
       "    </tr>\n",
       "    <tr>\n",
       "      <th>3</th>\n",
       "      <td>2023-01-01</td>\n",
       "      <td>360783</td>\n",
       "      <td>123911011</td>\n",
       "      <td>Reembolso de Sinistros pendentes de liquidação</td>\n",
       "      <td>0.00</td>\n",
       "      <td>0.00</td>\n",
       "    </tr>\n",
       "    <tr>\n",
       "      <th>4</th>\n",
       "      <td>2023-01-01</td>\n",
       "      <td>360783</td>\n",
       "      <td>123911012</td>\n",
       "      <td>Reembolso de Sinistros liquidados</td>\n",
       "      <td>0.00</td>\n",
       "      <td>0.00</td>\n",
       "    </tr>\n",
       "    <tr>\n",
       "      <th>...</th>\n",
       "      <td>...</td>\n",
       "      <td>...</td>\n",
       "      <td>...</td>\n",
       "      <td>...</td>\n",
       "      <td>...</td>\n",
       "      <td>...</td>\n",
       "    </tr>\n",
       "    <tr>\n",
       "      <th>3194864</th>\n",
       "      <td>01/10/2023</td>\n",
       "      <td>373010</td>\n",
       "      <td>461619</td>\n",
       "      <td>Despesas com Formação Profissional</td>\n",
       "      <td>3186.00</td>\n",
       "      <td>3186.00</td>\n",
       "    </tr>\n",
       "    <tr>\n",
       "      <th>3194865</th>\n",
       "      <td>01/10/2023</td>\n",
       "      <td>373010</td>\n",
       "      <td>46161901</td>\n",
       "      <td>Despesas com Formação Profissional</td>\n",
       "      <td>3186.00</td>\n",
       "      <td>3186.00</td>\n",
       "    </tr>\n",
       "    <tr>\n",
       "      <th>3194866</th>\n",
       "      <td>01/10/2023</td>\n",
       "      <td>373010</td>\n",
       "      <td>461619011</td>\n",
       "      <td>Formação Profissional</td>\n",
       "      <td>3186.00</td>\n",
       "      <td>3186.00</td>\n",
       "    </tr>\n",
       "    <tr>\n",
       "      <th>3194867</th>\n",
       "      <td>01/10/2023</td>\n",
       "      <td>373010</td>\n",
       "      <td>4617</td>\n",
       "      <td>DESPESAS COM PROGRAMA DE ALIMENTAÇÃO AO TRABAL...</td>\n",
       "      <td>1679537.99</td>\n",
       "      <td>2058927.25</td>\n",
       "    </tr>\n",
       "    <tr>\n",
       "      <th>3194868</th>\n",
       "      <td>01/10/2023</td>\n",
       "      <td>373010</td>\n",
       "      <td>46171</td>\n",
       "      <td>ALIMENTAÇÃO AO TRABALHADOR</td>\n",
       "      <td>1679537.99</td>\n",
       "      <td>2058927.25</td>\n",
       "    </tr>\n",
       "  </tbody>\n",
       "</table>\n",
       "<p>3194869 rows × 6 columns</p>\n",
       "</div>"
      ],
      "text/plain": [
       "               DATA  REG_ANS  CD_CONTA_CONTABIL  \\\n",
       "0        2023-01-01   360783              12391   \n",
       "1        2023-01-01   360783             123911   \n",
       "2        2023-01-01   360783           12391101   \n",
       "3        2023-01-01   360783          123911011   \n",
       "4        2023-01-01   360783          123911012   \n",
       "...             ...      ...                ...   \n",
       "3194864  01/10/2023   373010             461619   \n",
       "3194865  01/10/2023   373010           46161901   \n",
       "3194866  01/10/2023   373010          461619011   \n",
       "3194867  01/10/2023   373010               4617   \n",
       "3194868  01/10/2023   373010              46171   \n",
       "\n",
       "                                                 DESCRICAO  VL_SALDO_INICIAL  \\\n",
       "0        OUTROS CRÉDITOS DE OPERAÇÕES DE ASSISTÊNCIA MÉ...              0.00   \n",
       "1         Cobertura Assistencial com Preço Preestabelecido              0.00   \n",
       "2                                               Resseguros              0.00   \n",
       "3           Reembolso de Sinistros pendentes de liquidação              0.00   \n",
       "4                        Reembolso de Sinistros liquidados              0.00   \n",
       "...                                                    ...               ...   \n",
       "3194864                 Despesas com Formação Profissional           3186.00   \n",
       "3194865                 Despesas com Formação Profissional           3186.00   \n",
       "3194866                              Formação Profissional           3186.00   \n",
       "3194867  DESPESAS COM PROGRAMA DE ALIMENTAÇÃO AO TRABAL...        1679537.99   \n",
       "3194868                         ALIMENTAÇÃO AO TRABALHADOR        1679537.99   \n",
       "\n",
       "         VL_SALDO_FINAL  \n",
       "0                  0.00  \n",
       "1                  0.00  \n",
       "2                  0.00  \n",
       "3                  0.00  \n",
       "4                  0.00  \n",
       "...                 ...  \n",
       "3194864         3186.00  \n",
       "3194865         3186.00  \n",
       "3194866         3186.00  \n",
       "3194867      2058927.25  \n",
       "3194868      2058927.25  \n",
       "\n",
       "[3194869 rows x 6 columns]"
      ]
     },
     "execution_count": 550,
     "metadata": {},
     "output_type": "execute_result"
    }
   ],
   "source": [
    "df_demonstracoes_contabeis_2023_v1"
   ]
  },
  {
   "cell_type": "markdown",
   "metadata": {},
   "source": [
    "# Manipulação de datas"
   ]
  },
  {
   "cell_type": "code",
   "execution_count": 551,
   "metadata": {},
   "outputs": [],
   "source": [
    "# Mudar o formato de data do quarto trimestre\n",
    "mapeamento_formato_data = {\n",
    "    \"01/10/2023\": \"2023-10-01\"\n",
    "}\n",
    "\n",
    "df_demonstracoes_contabeis_2023_v1['DATA'] = df_demonstracoes_contabeis_2023_v1['DATA'].replace(mapeamento_formato_data)"
   ]
  },
  {
   "cell_type": "code",
   "execution_count": 552,
   "metadata": {},
   "outputs": [
    {
     "data": {
      "text/html": [
       "<div>\n",
       "<style scoped>\n",
       "    .dataframe tbody tr th:only-of-type {\n",
       "        vertical-align: middle;\n",
       "    }\n",
       "\n",
       "    .dataframe tbody tr th {\n",
       "        vertical-align: top;\n",
       "    }\n",
       "\n",
       "    .dataframe thead th {\n",
       "        text-align: right;\n",
       "    }\n",
       "</style>\n",
       "<table border=\"1\" class=\"dataframe\">\n",
       "  <thead>\n",
       "    <tr style=\"text-align: right;\">\n",
       "      <th></th>\n",
       "      <th>DATA</th>\n",
       "      <th>REG_ANS</th>\n",
       "      <th>CD_CONTA_CONTABIL</th>\n",
       "      <th>DESCRICAO</th>\n",
       "      <th>VL_SALDO_INICIAL</th>\n",
       "      <th>VL_SALDO_FINAL</th>\n",
       "    </tr>\n",
       "  </thead>\n",
       "  <tbody>\n",
       "    <tr>\n",
       "      <th>0</th>\n",
       "      <td>2023-01-01</td>\n",
       "      <td>360783</td>\n",
       "      <td>12391</td>\n",
       "      <td>OUTROS CRÉDITOS DE OPERAÇÕES DE ASSISTÊNCIA MÉ...</td>\n",
       "      <td>0.00</td>\n",
       "      <td>0.00</td>\n",
       "    </tr>\n",
       "    <tr>\n",
       "      <th>1</th>\n",
       "      <td>2023-01-01</td>\n",
       "      <td>360783</td>\n",
       "      <td>123911</td>\n",
       "      <td>Cobertura Assistencial com Preço Preestabelecido</td>\n",
       "      <td>0.00</td>\n",
       "      <td>0.00</td>\n",
       "    </tr>\n",
       "    <tr>\n",
       "      <th>2</th>\n",
       "      <td>2023-01-01</td>\n",
       "      <td>360783</td>\n",
       "      <td>12391101</td>\n",
       "      <td>Resseguros</td>\n",
       "      <td>0.00</td>\n",
       "      <td>0.00</td>\n",
       "    </tr>\n",
       "    <tr>\n",
       "      <th>3</th>\n",
       "      <td>2023-01-01</td>\n",
       "      <td>360783</td>\n",
       "      <td>123911011</td>\n",
       "      <td>Reembolso de Sinistros pendentes de liquidação</td>\n",
       "      <td>0.00</td>\n",
       "      <td>0.00</td>\n",
       "    </tr>\n",
       "    <tr>\n",
       "      <th>4</th>\n",
       "      <td>2023-01-01</td>\n",
       "      <td>360783</td>\n",
       "      <td>123911012</td>\n",
       "      <td>Reembolso de Sinistros liquidados</td>\n",
       "      <td>0.00</td>\n",
       "      <td>0.00</td>\n",
       "    </tr>\n",
       "    <tr>\n",
       "      <th>...</th>\n",
       "      <td>...</td>\n",
       "      <td>...</td>\n",
       "      <td>...</td>\n",
       "      <td>...</td>\n",
       "      <td>...</td>\n",
       "      <td>...</td>\n",
       "    </tr>\n",
       "    <tr>\n",
       "      <th>3194864</th>\n",
       "      <td>2023-10-01</td>\n",
       "      <td>373010</td>\n",
       "      <td>461619</td>\n",
       "      <td>Despesas com Formação Profissional</td>\n",
       "      <td>3186.00</td>\n",
       "      <td>3186.00</td>\n",
       "    </tr>\n",
       "    <tr>\n",
       "      <th>3194865</th>\n",
       "      <td>2023-10-01</td>\n",
       "      <td>373010</td>\n",
       "      <td>46161901</td>\n",
       "      <td>Despesas com Formação Profissional</td>\n",
       "      <td>3186.00</td>\n",
       "      <td>3186.00</td>\n",
       "    </tr>\n",
       "    <tr>\n",
       "      <th>3194866</th>\n",
       "      <td>2023-10-01</td>\n",
       "      <td>373010</td>\n",
       "      <td>461619011</td>\n",
       "      <td>Formação Profissional</td>\n",
       "      <td>3186.00</td>\n",
       "      <td>3186.00</td>\n",
       "    </tr>\n",
       "    <tr>\n",
       "      <th>3194867</th>\n",
       "      <td>2023-10-01</td>\n",
       "      <td>373010</td>\n",
       "      <td>4617</td>\n",
       "      <td>DESPESAS COM PROGRAMA DE ALIMENTAÇÃO AO TRABAL...</td>\n",
       "      <td>1679537.99</td>\n",
       "      <td>2058927.25</td>\n",
       "    </tr>\n",
       "    <tr>\n",
       "      <th>3194868</th>\n",
       "      <td>2023-10-01</td>\n",
       "      <td>373010</td>\n",
       "      <td>46171</td>\n",
       "      <td>ALIMENTAÇÃO AO TRABALHADOR</td>\n",
       "      <td>1679537.99</td>\n",
       "      <td>2058927.25</td>\n",
       "    </tr>\n",
       "  </tbody>\n",
       "</table>\n",
       "<p>3194869 rows × 6 columns</p>\n",
       "</div>"
      ],
      "text/plain": [
       "               DATA  REG_ANS  CD_CONTA_CONTABIL  \\\n",
       "0        2023-01-01   360783              12391   \n",
       "1        2023-01-01   360783             123911   \n",
       "2        2023-01-01   360783           12391101   \n",
       "3        2023-01-01   360783          123911011   \n",
       "4        2023-01-01   360783          123911012   \n",
       "...             ...      ...                ...   \n",
       "3194864  2023-10-01   373010             461619   \n",
       "3194865  2023-10-01   373010           46161901   \n",
       "3194866  2023-10-01   373010          461619011   \n",
       "3194867  2023-10-01   373010               4617   \n",
       "3194868  2023-10-01   373010              46171   \n",
       "\n",
       "                                                 DESCRICAO  VL_SALDO_INICIAL  \\\n",
       "0        OUTROS CRÉDITOS DE OPERAÇÕES DE ASSISTÊNCIA MÉ...              0.00   \n",
       "1         Cobertura Assistencial com Preço Preestabelecido              0.00   \n",
       "2                                               Resseguros              0.00   \n",
       "3           Reembolso de Sinistros pendentes de liquidação              0.00   \n",
       "4                        Reembolso de Sinistros liquidados              0.00   \n",
       "...                                                    ...               ...   \n",
       "3194864                 Despesas com Formação Profissional           3186.00   \n",
       "3194865                 Despesas com Formação Profissional           3186.00   \n",
       "3194866                              Formação Profissional           3186.00   \n",
       "3194867  DESPESAS COM PROGRAMA DE ALIMENTAÇÃO AO TRABAL...        1679537.99   \n",
       "3194868                         ALIMENTAÇÃO AO TRABALHADOR        1679537.99   \n",
       "\n",
       "         VL_SALDO_FINAL  \n",
       "0                  0.00  \n",
       "1                  0.00  \n",
       "2                  0.00  \n",
       "3                  0.00  \n",
       "4                  0.00  \n",
       "...                 ...  \n",
       "3194864         3186.00  \n",
       "3194865         3186.00  \n",
       "3194866         3186.00  \n",
       "3194867      2058927.25  \n",
       "3194868      2058927.25  \n",
       "\n",
       "[3194869 rows x 6 columns]"
      ]
     },
     "execution_count": 552,
     "metadata": {},
     "output_type": "execute_result"
    }
   ],
   "source": [
    "df_demonstracoes_contabeis_2023_v1"
   ]
  },
  {
   "cell_type": "markdown",
   "metadata": {},
   "source": [
    "# Adicionar a coluna trimestre"
   ]
  },
  {
   "cell_type": "code",
   "execution_count": 553,
   "metadata": {},
   "outputs": [],
   "source": [
    "mapeamento_data_trimestre = {\n",
    "    \"2023-01-01\": \"primeiro trimestre\",\n",
    "    \"2023-04-01\": \"segundo trimestre\",\n",
    "    \"2023-07-01\": \"terceiro trimestre\",\n",
    "    \"2023-10-01\": \"quarto trimestre\"\n",
    "}\n",
    "\n",
    "df_demonstracoes_contabeis_2023_v1[\"TRIMESTRE\"] = df_demonstracoes_contabeis_2023_v1[\"DATA\"].map(mapeamento_data_trimestre)"
   ]
  },
  {
   "cell_type": "code",
   "execution_count": 554,
   "metadata": {},
   "outputs": [
    {
     "data": {
      "text/html": [
       "<div>\n",
       "<style scoped>\n",
       "    .dataframe tbody tr th:only-of-type {\n",
       "        vertical-align: middle;\n",
       "    }\n",
       "\n",
       "    .dataframe tbody tr th {\n",
       "        vertical-align: top;\n",
       "    }\n",
       "\n",
       "    .dataframe thead th {\n",
       "        text-align: right;\n",
       "    }\n",
       "</style>\n",
       "<table border=\"1\" class=\"dataframe\">\n",
       "  <thead>\n",
       "    <tr style=\"text-align: right;\">\n",
       "      <th></th>\n",
       "      <th>DATA</th>\n",
       "      <th>REG_ANS</th>\n",
       "      <th>CD_CONTA_CONTABIL</th>\n",
       "      <th>DESCRICAO</th>\n",
       "      <th>VL_SALDO_INICIAL</th>\n",
       "      <th>VL_SALDO_FINAL</th>\n",
       "      <th>TRIMESTRE</th>\n",
       "    </tr>\n",
       "  </thead>\n",
       "  <tbody>\n",
       "    <tr>\n",
       "      <th>0</th>\n",
       "      <td>2023-01-01</td>\n",
       "      <td>360783</td>\n",
       "      <td>12391</td>\n",
       "      <td>OUTROS CRÉDITOS DE OPERAÇÕES DE ASSISTÊNCIA MÉ...</td>\n",
       "      <td>0.0</td>\n",
       "      <td>0.0</td>\n",
       "      <td>primeiro trimestre</td>\n",
       "    </tr>\n",
       "    <tr>\n",
       "      <th>1</th>\n",
       "      <td>2023-01-01</td>\n",
       "      <td>360783</td>\n",
       "      <td>123911</td>\n",
       "      <td>Cobertura Assistencial com Preço Preestabelecido</td>\n",
       "      <td>0.0</td>\n",
       "      <td>0.0</td>\n",
       "      <td>primeiro trimestre</td>\n",
       "    </tr>\n",
       "  </tbody>\n",
       "</table>\n",
       "</div>"
      ],
      "text/plain": [
       "         DATA  REG_ANS  CD_CONTA_CONTABIL  \\\n",
       "0  2023-01-01   360783              12391   \n",
       "1  2023-01-01   360783             123911   \n",
       "\n",
       "                                           DESCRICAO  VL_SALDO_INICIAL  \\\n",
       "0  OUTROS CRÉDITOS DE OPERAÇÕES DE ASSISTÊNCIA MÉ...               0.0   \n",
       "1   Cobertura Assistencial com Preço Preestabelecido               0.0   \n",
       "\n",
       "   VL_SALDO_FINAL           TRIMESTRE  \n",
       "0             0.0  primeiro trimestre  \n",
       "1             0.0  primeiro trimestre  "
      ]
     },
     "execution_count": 554,
     "metadata": {},
     "output_type": "execute_result"
    }
   ],
   "source": [
    "df_filtrado_primeiro_trimestre =  df_demonstracoes_contabeis_2023_v1[df_demonstracoes_contabeis_2023_v1['DATA'] == '2023-01-01']\n",
    "df_filtrado_primeiro_trimestre.head(2)"
   ]
  },
  {
   "cell_type": "code",
   "execution_count": 555,
   "metadata": {},
   "outputs": [
    {
     "data": {
      "text/html": [
       "<div>\n",
       "<style scoped>\n",
       "    .dataframe tbody tr th:only-of-type {\n",
       "        vertical-align: middle;\n",
       "    }\n",
       "\n",
       "    .dataframe tbody tr th {\n",
       "        vertical-align: top;\n",
       "    }\n",
       "\n",
       "    .dataframe thead th {\n",
       "        text-align: right;\n",
       "    }\n",
       "</style>\n",
       "<table border=\"1\" class=\"dataframe\">\n",
       "  <thead>\n",
       "    <tr style=\"text-align: right;\">\n",
       "      <th></th>\n",
       "      <th>DATA</th>\n",
       "      <th>REG_ANS</th>\n",
       "      <th>CD_CONTA_CONTABIL</th>\n",
       "      <th>DESCRICAO</th>\n",
       "      <th>VL_SALDO_INICIAL</th>\n",
       "      <th>VL_SALDO_FINAL</th>\n",
       "      <th>TRIMESTRE</th>\n",
       "    </tr>\n",
       "  </thead>\n",
       "  <tbody>\n",
       "    <tr>\n",
       "      <th>729476</th>\n",
       "      <td>2023-04-01</td>\n",
       "      <td>354066</td>\n",
       "      <td>12811</td>\n",
       "      <td>DESPESAS ADMINISTRATIVAS</td>\n",
       "      <td>658124.3</td>\n",
       "      <td>871046.4</td>\n",
       "      <td>segundo trimestre</td>\n",
       "    </tr>\n",
       "    <tr>\n",
       "      <th>729477</th>\n",
       "      <td>2023-04-01</td>\n",
       "      <td>354066</td>\n",
       "      <td>128119</td>\n",
       "      <td>Despesas Administrativas</td>\n",
       "      <td>658124.3</td>\n",
       "      <td>871046.4</td>\n",
       "      <td>segundo trimestre</td>\n",
       "    </tr>\n",
       "  </tbody>\n",
       "</table>\n",
       "</div>"
      ],
      "text/plain": [
       "              DATA  REG_ANS  CD_CONTA_CONTABIL                 DESCRICAO  \\\n",
       "729476  2023-04-01   354066              12811  DESPESAS ADMINISTRATIVAS   \n",
       "729477  2023-04-01   354066             128119  Despesas Administrativas   \n",
       "\n",
       "        VL_SALDO_INICIAL  VL_SALDO_FINAL          TRIMESTRE  \n",
       "729476          658124.3        871046.4  segundo trimestre  \n",
       "729477          658124.3        871046.4  segundo trimestre  "
      ]
     },
     "execution_count": 555,
     "metadata": {},
     "output_type": "execute_result"
    }
   ],
   "source": [
    "df_filtrado_segundo_trimestre =  df_demonstracoes_contabeis_2023_v1[df_demonstracoes_contabeis_2023_v1['DATA'] == '2023-04-01']\n",
    "df_filtrado_segundo_trimestre.head(2)"
   ]
  },
  {
   "cell_type": "code",
   "execution_count": 556,
   "metadata": {},
   "outputs": [
    {
     "data": {
      "text/html": [
       "<div>\n",
       "<style scoped>\n",
       "    .dataframe tbody tr th:only-of-type {\n",
       "        vertical-align: middle;\n",
       "    }\n",
       "\n",
       "    .dataframe tbody tr th {\n",
       "        vertical-align: top;\n",
       "    }\n",
       "\n",
       "    .dataframe thead th {\n",
       "        text-align: right;\n",
       "    }\n",
       "</style>\n",
       "<table border=\"1\" class=\"dataframe\">\n",
       "  <thead>\n",
       "    <tr style=\"text-align: right;\">\n",
       "      <th></th>\n",
       "      <th>DATA</th>\n",
       "      <th>REG_ANS</th>\n",
       "      <th>CD_CONTA_CONTABIL</th>\n",
       "      <th>DESCRICAO</th>\n",
       "      <th>VL_SALDO_INICIAL</th>\n",
       "      <th>VL_SALDO_FINAL</th>\n",
       "      <th>TRIMESTRE</th>\n",
       "    </tr>\n",
       "  </thead>\n",
       "  <tbody>\n",
       "    <tr>\n",
       "      <th>1471535</th>\n",
       "      <td>2023-07-01</td>\n",
       "      <td>414492</td>\n",
       "      <td>23772</td>\n",
       "      <td>FINANCIAMENTOS</td>\n",
       "      <td>160123.27</td>\n",
       "      <td>80061.73</td>\n",
       "      <td>terceiro trimestre</td>\n",
       "    </tr>\n",
       "    <tr>\n",
       "      <th>1471536</th>\n",
       "      <td>2023-07-01</td>\n",
       "      <td>414492</td>\n",
       "      <td>237729</td>\n",
       "      <td>Financiamentos</td>\n",
       "      <td>160123.27</td>\n",
       "      <td>80061.73</td>\n",
       "      <td>terceiro trimestre</td>\n",
       "    </tr>\n",
       "  </tbody>\n",
       "</table>\n",
       "</div>"
      ],
      "text/plain": [
       "               DATA  REG_ANS  CD_CONTA_CONTABIL       DESCRICAO  \\\n",
       "1471535  2023-07-01   414492              23772  FINANCIAMENTOS   \n",
       "1471536  2023-07-01   414492             237729  Financiamentos   \n",
       "\n",
       "         VL_SALDO_INICIAL  VL_SALDO_FINAL           TRIMESTRE  \n",
       "1471535         160123.27        80061.73  terceiro trimestre  \n",
       "1471536         160123.27        80061.73  terceiro trimestre  "
      ]
     },
     "execution_count": 556,
     "metadata": {},
     "output_type": "execute_result"
    }
   ],
   "source": [
    "df_filtrado_terceiro_trimestre =  df_demonstracoes_contabeis_2023_v1[df_demonstracoes_contabeis_2023_v1['DATA'] == '2023-07-01']\n",
    "df_filtrado_terceiro_trimestre.head(2)"
   ]
  },
  {
   "cell_type": "code",
   "execution_count": 557,
   "metadata": {},
   "outputs": [
    {
     "data": {
      "text/html": [
       "<div>\n",
       "<style scoped>\n",
       "    .dataframe tbody tr th:only-of-type {\n",
       "        vertical-align: middle;\n",
       "    }\n",
       "\n",
       "    .dataframe tbody tr th {\n",
       "        vertical-align: top;\n",
       "    }\n",
       "\n",
       "    .dataframe thead th {\n",
       "        text-align: right;\n",
       "    }\n",
       "</style>\n",
       "<table border=\"1\" class=\"dataframe\">\n",
       "  <thead>\n",
       "    <tr style=\"text-align: right;\">\n",
       "      <th></th>\n",
       "      <th>DATA</th>\n",
       "      <th>REG_ANS</th>\n",
       "      <th>CD_CONTA_CONTABIL</th>\n",
       "      <th>DESCRICAO</th>\n",
       "      <th>VL_SALDO_INICIAL</th>\n",
       "      <th>VL_SALDO_FINAL</th>\n",
       "      <th>TRIMESTRE</th>\n",
       "    </tr>\n",
       "  </thead>\n",
       "  <tbody>\n",
       "    <tr>\n",
       "      <th>2235835</th>\n",
       "      <td>2023-10-01</td>\n",
       "      <td>422941</td>\n",
       "      <td>461719011</td>\n",
       "      <td>Alimentação ao Trabalhador</td>\n",
       "      <td>7272.27</td>\n",
       "      <td>9882.25</td>\n",
       "      <td>quarto trimestre</td>\n",
       "    </tr>\n",
       "    <tr>\n",
       "      <th>2235836</th>\n",
       "      <td>2023-10-01</td>\n",
       "      <td>422941</td>\n",
       "      <td>4618</td>\n",
       "      <td>DESPESAS COM TRANSPORTE DE EMPREGADOS</td>\n",
       "      <td>4222.75</td>\n",
       "      <td>5008.33</td>\n",
       "      <td>quarto trimestre</td>\n",
       "    </tr>\n",
       "  </tbody>\n",
       "</table>\n",
       "</div>"
      ],
      "text/plain": [
       "               DATA  REG_ANS  CD_CONTA_CONTABIL  \\\n",
       "2235835  2023-10-01   422941          461719011   \n",
       "2235836  2023-10-01   422941               4618   \n",
       "\n",
       "                                     DESCRICAO  VL_SALDO_INICIAL  \\\n",
       "2235835             Alimentação ao Trabalhador           7272.27   \n",
       "2235836  DESPESAS COM TRANSPORTE DE EMPREGADOS           4222.75   \n",
       "\n",
       "         VL_SALDO_FINAL         TRIMESTRE  \n",
       "2235835         9882.25  quarto trimestre  \n",
       "2235836         5008.33  quarto trimestre  "
      ]
     },
     "execution_count": 557,
     "metadata": {},
     "output_type": "execute_result"
    }
   ],
   "source": [
    "df_filtrado2 =  df_demonstracoes_contabeis_2023_v1[df_demonstracoes_contabeis_2023_v1['DATA'] == '2023-10-01']\n",
    "df_filtrado2.head(2)"
   ]
  },
  {
   "cell_type": "markdown",
   "metadata": {},
   "source": [
    "# Salvar o csv"
   ]
  },
  {
   "cell_type": "code",
   "execution_count": 561,
   "metadata": {},
   "outputs": [],
   "source": [
    "df_demonstracoes_contabeis_2023_v1.to_csv('df_demonstracoes_contabeis_2023_v1.csv', index=False, sep=\";\")"
   ]
  }
 ],
 "metadata": {
  "kernelspec": {
   "display_name": ".venv",
   "language": "python",
   "name": "python3"
  },
  "language_info": {
   "codemirror_mode": {
    "name": "ipython",
    "version": 3
   },
   "file_extension": ".py",
   "mimetype": "text/x-python",
   "name": "python",
   "nbconvert_exporter": "python",
   "pygments_lexer": "ipython3",
   "version": "3.12.0"
  }
 },
 "nbformat": 4,
 "nbformat_minor": 2
}
